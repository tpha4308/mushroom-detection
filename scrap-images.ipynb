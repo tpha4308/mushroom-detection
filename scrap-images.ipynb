{
 "cells": [
  {
   "cell_type": "code",
   "execution_count": 50,
   "metadata": {},
   "outputs": [],
   "source": [
    "import numpy as np\n",
    "from bs4 import BeautifulSoup\n",
    "import requests\n",
    "import re    \n",
    "import shutil"
   ]
  },
  {
   "cell_type": "code",
   "execution_count": 59,
   "metadata": {},
   "outputs": [
    {
     "name": "stdout",
     "output_type": "stream",
     "text": [
      "https://www.mushroom.world/mushrooms/poisonous\n",
      "0\n",
      "\n",
      "https://www.mushroom.world/mushrooms/poisonous?page=1\n",
      "34\n",
      "\n",
      "https://www.mushroom.world/mushrooms/poisonous?page=2\n",
      "78\n",
      "\n",
      "https://www.mushroom.world/mushrooms/poisonous?page=3\n",
      "121\n",
      "\n",
      "https://www.mushroom.world/mushrooms/poisonous?page=4\n",
      "159\n"
     ]
    }
   ],
   "source": [
    "for edibility in ['edible', 'inedible', 'poisonous']:\n",
    "    all_links = []\n",
    "\n",
    "    current_link = 'https://www.mushroom.world/mushrooms/{}'.format(edibility)\n",
    "\n",
    "    while True:\n",
    "        next_page = False\n",
    "        html_file = requests.get(current_link).text\n",
    "        soup = BeautifulSoup(html_file, 'lxml')\n",
    "\n",
    "        for each in soup.find_all('div', class_ ='image'):\n",
    "            inner_each = each.find('a', class_ = 'swipebox')\n",
    "            img = inner_each.get('href')\n",
    "            link = root + img[3:]\n",
    "            all_links.append(link)\n",
    "\n",
    "\n",
    "        for each in soup.find_all('div', id = 'pager'):\n",
    "            for each_link in each.find_all('a'):\n",
    "                if \"Next Page\" in each_link.text:\n",
    "                    next_page_link = root + each_link.get('href')\n",
    "                    next_page = True\n",
    "\n",
    "        if not next_page:\n",
    "            break\n",
    "\n",
    "        current_link = next_page_link \n",
    "\n",
    "    for img_url in all_links:\n",
    "        r = requests.get(img_url, stream=True)\n",
    "        name = img_url.split('/')[-1]\n",
    "        out_path = './{}/{}'.format(edibility, name)\n",
    "        if r.status_code == 200:\n",
    "            with open(out_path, 'wb') as f:\n",
    "                r.raw.decode_content = True\n",
    "                shutil.copyfileobj(r.raw, f)"
   ]
  },
  {
   "cell_type": "code",
   "execution_count": 57,
   "metadata": {},
   "outputs": [],
   "source": []
  },
  {
   "cell_type": "code",
   "execution_count": null,
   "metadata": {},
   "outputs": [],
   "source": []
  }
 ],
 "metadata": {
  "kernelspec": {
   "display_name": "Python 3",
   "language": "python",
   "name": "python3"
  },
  "language_info": {
   "codemirror_mode": {
    "name": "ipython",
    "version": 3
   },
   "file_extension": ".py",
   "mimetype": "text/x-python",
   "name": "python",
   "nbconvert_exporter": "python",
   "pygments_lexer": "ipython3",
   "version": "3.7.4"
  }
 },
 "nbformat": 4,
 "nbformat_minor": 2
}
