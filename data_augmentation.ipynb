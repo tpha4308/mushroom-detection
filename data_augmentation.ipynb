{
 "cells": [
  {
   "cell_type": "code",
   "execution_count": 1,
   "metadata": {
    "id": "MhW2852s6n0Z"
   },
   "outputs": [],
   "source": [
    "from os import listdir\n",
    "from PIL import Image, ImageOps, ImageFilter, ImageEnhance\n",
    "\n",
    "import matplotlib.pyplot as plt\n",
    "import numpy as np\n",
    "import cv2\n",
    "from matplotlib.patches import Rectangle\n",
    "\n",
    "class_ = 'poisonous'\n",
    "img_folder = 'drive/MyDrive/mushroom-photos/original-data/{}'.format(class_)\n",
    "bbox_folder = 'drive/MyDrive/mushroom-photos/original-data/{}-bbox'.format(class_)"
   ]
  },
  {
   "cell_type": "code",
   "execution_count": 16,
   "metadata": {
    "id": "bqLodi9M67lI"
   },
   "outputs": [],
   "source": [
    "imgFiles = [file for file in listdir(img_folder) if file.endswith('.jpg')]"
   ]
  },
  {
   "cell_type": "code",
   "execution_count": 3,
   "metadata": {
    "id": "yPfc2bL790H9"
   },
   "outputs": [],
   "source": [
    "def get_bbox(txt_file): \n",
    "  # function to get the list of bounding box in a .txt file \n",
    "\n",
    "  bbox_ls = []\n",
    "\n",
    "  with open(txt_file, 'r') as f:\n",
    "    while True:\n",
    "      ln = f.readline().rstrip()\n",
    "      if ln == '':\n",
    "        break\n",
    "      ln = np.array(ln.split(), dtype = float)\n",
    "      bbox_ls.append(ln)\n",
    "\n",
    "  return np.array(bbox_ls)"
   ]
  },
  {
   "cell_type": "code",
   "execution_count": 4,
   "metadata": {
    "id": "_W0zMKxI_1fU"
   },
   "outputs": [],
   "source": [
    "def draw_bounding_box(img, bbox_ls):\n",
    "  # Input: img (Image file), bbox (np array)\n",
    "  # Output: no ouput, just show the img and the bounding box\n",
    "\n",
    "  pic_width, pic_height = img.size\n",
    "  plt.imshow(img)\n",
    "\n",
    "  for bbox in bbox_ls:\n",
    "    label, x, y, w, h = bbox\n",
    "    x,y,w,h = pic_width*x, pic_height*y, pic_width*w, pic_height*h\n",
    "    upper_left_corner = (x-w//2, y-h//2)\n",
    "      \n",
    "    ax = plt.gca()\n",
    "\n",
    "    # Create a Rectangle patch\n",
    "    rect = Rectangle(upper_left_corner, w,h, linewidth=1, edgecolor='r', facecolor = 'None')\n",
    "\n",
    "    # Add the patch to the Axes\n",
    "    ax.add_patch(rect)\n",
    "\n",
    "  plt.axis('off')\n",
    "  plt.show()"
   ]
  },
  {
   "cell_type": "markdown",
   "metadata": {
    "id": "R2AZzaJbDP5N"
   },
   "source": [
    "# Data augmentation"
   ]
  },
  {
   "cell_type": "code",
   "execution_count": 5,
   "metadata": {
    "id": "zxEoxC-sDQy0"
   },
   "outputs": [],
   "source": [
    "def add_noise(pic):\n",
    "  # to add noise to a picture \n",
    "\n",
    "  pic_np = np.array(pic)\n",
    "  noise = np.random.randint(-200, 200, pic_np.shape)\n",
    "  noisy_pic = np.clip(np.add(pic_np, noise), 0, 255)\n",
    "  return Image.fromarray(noisy_pic.astype('uint8'))"
   ]
  },
  {
   "cell_type": "code",
   "execution_count": 7,
   "metadata": {
    "id": "UTY7vMZtw4GG"
   },
   "outputs": [],
   "source": [
    "def translate(pic, bbox_ls):\n",
    "  # to translate the image \n",
    "  pic_width, pic_height = pic.size\n",
    "\n",
    "  # randomly select the amount to be shifted \n",
    "  shift = np.arange(40, 201, 20)\n",
    "  prob = 1/ (np.ones(len(shift))*len(shift))\n",
    "  n = len(shift)\n",
    "\n",
    "  x_shift = np.random.choice(shift, p = prob)\n",
    "  x_shift = np.random.choice([x_shift, -x_shift], p = [1/2, 1/2])\n",
    "\n",
    "  y_shift = np.random.choice(shift, p = prob)\n",
    "  y_shift = np.random.choice([y_shift, -y_shift], p = [1/2, 1/2])\n",
    "\n",
    "  # translate image \n",
    "  a,b,c,d,e,f = 1,0,x_shift,0,1,y_shift\n",
    "  translated_img = pic.transform(pic.size, Image.AFFINE, (a, b, c, d, e, f))\n",
    "\n",
    "  # fixing the bounding boxes\n",
    "  new_bbox_ls = []\n",
    "\n",
    "  for bbox in bbox_ls:\n",
    "    label, x, y, w, h = bbox\n",
    "    x,y,w,h = pic_width*x, pic_height*y, pic_width*w, pic_height*h\n",
    "\n",
    "    x -= c\n",
    "    y -= f\n",
    "\n",
    "    upper_left_corner = (x-w//2, y-h//2)\n",
    "    lower_right_corner = (x+w//2,y+h//2)\n",
    "\n",
    "    x1, y1 = upper_left_corner\n",
    "    x2, y2 = lower_right_corner\n",
    "\n",
    "    # if the bounding box get completely out of the boundaries, just remove it\n",
    "    if x2 < 0 or y2 < 0 or x1 > pic_width or y1 > pic_height:\n",
    "      pass\n",
    "    # if the bounding box is still inside the image, fix the bounding box center and its width and height \n",
    "    else:\n",
    "      x1, y1 = max(1,x1), max(1, y1)\n",
    "      x2, y2 = min(pic_width-1, x2), min(pic_height-1, y2)\n",
    "\n",
    "      new_x, new_y = (x2+x1)//2, (y2+y1)//2\n",
    "      new_w, new_h = x2-x1, y2-y1\n",
    "\n",
    "      new_x, new_y, new_w, new_h = new_x/pic_width, new_y/pic_height, new_w/pic_width, new_h/pic_height\n",
    "\n",
    "      new_bbox = np.array([label, new_x, new_y, new_w, new_h])\n",
    "      new_bbox_ls.append(new_bbox)\n",
    "\n",
    "  return translated_img, np.array(new_bbox_ls)"
   ]
  },
  {
   "cell_type": "code",
   "execution_count": 8,
   "metadata": {
    "id": "rN5DCxqqvwkA"
   },
   "outputs": [],
   "source": [
    "def transform(pic, bbox_ls, transform_type):\n",
    "  if transform_type == 1: # mirror, change bbox x-coords\n",
    "    pic = ImageOps.mirror(pic)\n",
    "    new_bbox_ls = [] \n",
    "    for label, x, y, w, h in bbox_ls:\n",
    "      new_bbox_ls.append(np.array([label, 1-x, y, w, h]))\n",
    "    bbox_ls = np.array(new_bbox_ls)\n",
    "\n",
    "  elif transform_type == 2: # flip, change bbox y-coords\n",
    "    pic = ImageOps.flip(pic)\n",
    "    new_bbox_ls = [] \n",
    "    for label, x, y, w, h in bbox_ls:\n",
    "      new_bbox_ls.append(np.array([label, x, 1-y, w, h]))\n",
    "    bbox_ls = np.array(new_bbox_ls)\n",
    "\n",
    "  elif transform_type == 3: # add noise, no change\n",
    "    pic = add_noise(pic) \n",
    "\n",
    "  elif transform_type == 4: # translation \n",
    "    pic, bbox_ls = translate(pic, bbox_ls)\n",
    "\n",
    "  return pic, bbox_ls"
   ]
  },
  {
   "cell_type": "code",
   "execution_count": null,
   "metadata": {
    "id": "K4zM_7a77wKA"
   },
   "outputs": [],
   "source": [
    "full_list = []\n",
    "types = ['mirrored', 'flipped', 'noisy', 'translated']\n",
    "\n",
    "for i in range(len(imgFiles)):\n",
    "  try:\n",
    "    path = imgFiles[i]\n",
    "    name = path.split('.')[0]\n",
    "\n",
    "    txt_file_path = bbox_folder + '/' + name + '.txt'\n",
    "    img_path = img_folder + '/' + path\n",
    "\n",
    "    bbox_ls = get_bbox(txt_file_path)\n",
    "    img = Image.open(img_path)\n",
    "\n",
    "    for j in range(1,5):\n",
    "      transformed_img, new_bbox_ls = transform(img, bbox_ls, j)\n",
    "      full_list.append(('{}-{}'.format(name, types[j-1]), \n",
    "                        transformed_img, new_bbox_ls))\n",
    "      \n",
    "  except FileNotFoundError:\n",
    "    pass\n"
   ]
  },
  {
   "cell_type": "code",
   "execution_count": null,
   "metadata": {
    "id": "AkgJ0hizDbXc"
   },
   "outputs": [],
   "source": [
    "np.random.shuffle(full_list)"
   ]
  },
  {
   "cell_type": "code",
   "execution_count": null,
   "metadata": {
    "colab": {
     "base_uri": "https://localhost:8080/"
    },
    "id": "iyXl5j1EC2Pq",
    "outputId": "c469578b-5880-41d4-a066-5749c7e6c1ed"
   },
   "outputs": [
    {
     "data": {
      "text/plain": [
       "160"
      ]
     },
     "execution_count": 55,
     "metadata": {},
     "output_type": "execute_result"
    }
   ],
   "source": [
    "m = len(full_list)//4\n",
    "m"
   ]
  },
  {
   "cell_type": "code",
   "execution_count": null,
   "metadata": {
    "id": "lZBevymWF5iF"
   },
   "outputs": [],
   "source": [
    "selected = full_list[:400-m]"
   ]
  },
  {
   "cell_type": "code",
   "execution_count": null,
   "metadata": {
    "id": "YJ5hupHB2GyF"
   },
   "outputs": [],
   "source": [
    "correct_labels = {'edible': 0,\n",
    "                  'inedible': 1, \n",
    "                  'poisonous': 2}"
   ]
  },
  {
   "cell_type": "code",
   "execution_count": null,
   "metadata": {
    "colab": {
     "base_uri": "https://localhost:8080/"
    },
    "id": "A551GnfV2Q8B",
    "outputId": "5cbab207-0ef1-4909-fe7f-7c09f8928740"
   },
   "outputs": [
    {
     "data": {
      "text/plain": [
       "2"
      ]
     },
     "execution_count": 58,
     "metadata": {},
     "output_type": "execute_result"
    }
   ],
   "source": [
    "correct_labels[class_]"
   ]
  },
  {
   "cell_type": "code",
   "execution_count": null,
   "metadata": {
    "id": "uwQWJyjCGAqY"
   },
   "outputs": [],
   "source": [
    "new_bbox_folder = 'drive/MyDrive/mushroom-photos/{}-bbox'.format(class_)\n",
    "new_img_folder = 'drive/MyDrive/mushroom-photos/{}'.format(class_)\n",
    "for name, transformed_img, new_bbox_ls in selected:\n",
    "  img_name = new_img_folder + '/' + name + '.jpg'\n",
    "  txt_name = new_bbox_folder + '/' + name + '.txt'\n",
    "\n",
    "  with open(txt_name, 'w') as f:\n",
    "    for label, x, y, w, h in new_bbox_ls:\n",
    "      ln = [correct_labels[class_], x, y, w, h]\n",
    "      ln = ' '.join([str(elem) for elem in ln])\n",
    "      f.write(ln+'\\n')\n",
    "\n",
    "  transformed_img.save(img_name)"
   ]
  },
  {
   "cell_type": "code",
   "execution_count": null,
   "metadata": {
    "id": "H6B54h1j33nh"
   },
   "outputs": [],
   "source": [
    "# save the origina images and fix their labels \n",
    "\n",
    "for i in range(len(imgFiles)):\n",
    "  try:\n",
    "    path = imgFiles[i]\n",
    "    name = path.split('.')[0]\n",
    "\n",
    "    og_txt_name = bbox_folder + '/' + name + '.txt'\n",
    "    og_img_name = img_folder + '/' + path\n",
    "    og_img = Image.open(og_img_name)\n",
    "\n",
    "    img_name = new_img_folder + '/' + path\n",
    "    txt_name = new_bbox_folder + '/' + name + '.txt'\n",
    "\n",
    "    bbox_ls = get_bbox(og_txt_name)\n",
    "\n",
    "    with open(txt_name, 'w') as f:\n",
    "      for label, x, y, w, h in bbox_ls:\n",
    "        ln = [correct_labels[class_], x, y, w, h]\n",
    "        ln = ' '.join([str(elem) for elem in ln])\n",
    "        f.write(ln+'\\n')\n",
    "\n",
    "    og_img.save(img_name)\n",
    "  except FileNotFoundError:\n",
    "    pass"
   ]
  },
  {
   "cell_type": "code",
   "execution_count": null,
   "metadata": {
    "colab": {
     "base_uri": "https://localhost:8080/"
    },
    "id": "yg5xdtxbAV52",
    "outputId": "1f840a22-96df-45e7-c4d9-84e5628c66bd"
   },
   "outputs": [
    {
     "data": {
      "text/plain": [
       "400"
      ]
     },
     "execution_count": 61,
     "metadata": {},
     "output_type": "execute_result"
    }
   ],
   "source": [
    "# check the number of generated images \n",
    "\n",
    "finalFiles = [file for file in listdir(new_img_folder) if file.endswith('.jpg')]\n",
    "len(finalFiles)"
   ]
  },
  {
   "cell_type": "code",
   "execution_count": null,
   "metadata": {
    "id": "uASlyZrJD5js"
   },
   "outputs": [],
   "source": []
  }
 ],
 "metadata": {
  "colab": {
   "collapsed_sections": [],
   "name": "data-augmentation.ipynb",
   "provenance": []
  },
  "kernelspec": {
   "display_name": "Python 3",
   "language": "python",
   "name": "python3"
  },
  "language_info": {
   "codemirror_mode": {
    "name": "ipython",
    "version": 3
   },
   "file_extension": ".py",
   "mimetype": "text/x-python",
   "name": "python",
   "nbconvert_exporter": "python",
   "pygments_lexer": "ipython3",
   "version": "3.7.4"
  }
 },
 "nbformat": 4,
 "nbformat_minor": 1
}
