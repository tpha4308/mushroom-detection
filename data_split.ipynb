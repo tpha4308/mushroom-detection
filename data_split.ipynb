{
 "cells": [
  {
   "cell_type": "code",
   "execution_count": null,
   "metadata": {
    "id": "AqTB08r5wz4p"
   },
   "outputs": [],
   "source": [
    "from os import listdir\n",
    "import shutil\n",
    "from sklearn.model_selection import train_test_split\n",
    "import numpy as np\n",
    "\n",
    "class_ = 'inedible'\n",
    "img_folder = 'drive/MyDrive/mushroom-photos/{}'.format(class_)\n",
    "bbox_folder = 'drive/MyDrive/mushroom-photos/{}-bbox'.format(class_)"
   ]
  },
  {
   "cell_type": "code",
   "execution_count": null,
   "metadata": {
    "id": "tSwfmk4gxTqG"
   },
   "outputs": [],
   "source": [
    "imgFiles = [file for file in listdir(img_folder) if file.endswith('.jpg')]\n",
    "bboxFiles = [file for file in listdir(bbox_folder) if file.endswith('.txt')]"
   ]
  },
  {
   "cell_type": "code",
   "execution_count": null,
   "metadata": {
    "id": "CHN8ks65xv7V"
   },
   "outputs": [],
   "source": [
    "np.random.shuffle(imgFiles)\n",
    "\n",
    "# split the data into train, test, and val\n",
    "train, val, test = imgFiles[:270], imgFiles[270:300], imgFiles[300:]\n",
    "len(train), len(test), len(val)"
   ]
  },
  {
   "cell_type": "markdown",
   "metadata": {
    "id": "k7rdLw_u25ra"
   },
   "source": [
    "Move the files into the according folders (e.g. train images of the edible class go to the `/images/train` folder, the new folder will have train images from all classes)"
   ]
  },
  {
   "cell_type": "code",
   "execution_count": null,
   "metadata": {
    "id": "6kAFeoxFyFBI"
   },
   "outputs": [],
   "source": [
    "img_destination = 'drive/MyDrive/mushroom-data/images/train'\n",
    "bbox_destination = 'drive/MyDrive/mushroom-data/labels/train'\n",
    "\n",
    "for eachfile in train:\n",
    "  name = eachfile.split('.')[0]\n",
    "  bbox_file = name + '.txt'\n",
    "\n",
    "  img_og_path = img_folder + '/' + eachfile\n",
    "  bbox_og_path = bbox_folder + '/' + bbox_file\n",
    "  shutil.move(img_og_path, img_destination)\n",
    "  shutil.move(bbox_og_path, bbox_destination)\n"
   ]
  },
  {
   "cell_type": "code",
   "execution_count": null,
   "metadata": {
    "id": "vznEgoLhyV5y"
   },
   "outputs": [],
   "source": [
    "img_destination = 'drive/MyDrive/mushroom-data/images/test'\n",
    "bbox_destination = 'drive/MyDrive/mushroom-data/labels/test'\n",
    "\n",
    "\n",
    "for eachfile in test:\n",
    "  #print(eachfile)\n",
    "  \n",
    "  name = eachfile.split('.')[0]\n",
    "  bbox_file = name + '.txt'\n",
    "\n",
    "  img_og_path = img_folder + '/' + eachfile\n",
    "  bbox_og_path = bbox_folder + '/' + bbox_file\n",
    "  shutil.move(img_og_path, img_destination)\n",
    "  shutil.move(bbox_og_path, bbox_destination)\n"
   ]
  },
  {
   "cell_type": "code",
   "execution_count": null,
   "metadata": {
    "id": "yFCs-QaE0yzS"
   },
   "outputs": [],
   "source": [
    "img_destination = 'drive/MyDrive/mushroom-data/images/val'\n",
    "bbox_destination = 'drive/MyDrive/mushroom-data/labels/val'\n",
    "\n",
    "\n",
    "for eachfile in val:\n",
    "  #print(eachfile)\n",
    "  \n",
    "  name = eachfile.split('.')[0]\n",
    "  bbox_file = name + '.txt'\n",
    "\n",
    "  img_og_path = img_folder + '/' + eachfile\n",
    "  bbox_og_path = bbox_folder + '/' + bbox_file\n",
    "  shutil.move(img_og_path, img_destination)\n",
    "  shutil.move(bbox_og_path, bbox_destination)\n"
   ]
  },
  {
   "cell_type": "code",
   "execution_count": null,
   "metadata": {
    "id": "_hnDYkPG1qLC"
   },
   "outputs": [],
   "source": []
  }
 ],
 "metadata": {
  "colab": {
   "collapsed_sections": [],
   "name": "data-split.ipynb",
   "provenance": []
  },
  "kernelspec": {
   "display_name": "Python 3",
   "language": "python",
   "name": "python3"
  },
  "language_info": {
   "codemirror_mode": {
    "name": "ipython",
    "version": 3
   },
   "file_extension": ".py",
   "mimetype": "text/x-python",
   "name": "python",
   "nbconvert_exporter": "python",
   "pygments_lexer": "ipython3",
   "version": "3.7.4"
  }
 },
 "nbformat": 4,
 "nbformat_minor": 1
}
